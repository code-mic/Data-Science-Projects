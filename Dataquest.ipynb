{
  "nbformat": 4,
  "nbformat_minor": 0,
  "metadata": {
    "colab": {
      "name": "Dataquest.ipynb",
      "provenance": [],
      "authorship_tag": "ABX9TyOfvIbsamF/wTGmxKZ8Y42U",
      "include_colab_link": true
    },
    "kernelspec": {
      "name": "python3",
      "display_name": "Python 3"
    }
  },
  "cells": [
    {
      "cell_type": "markdown",
      "metadata": {
        "id": "view-in-github",
        "colab_type": "text"
      },
      "source": [
        "<a href=\"https://colab.research.google.com/github/m-sasota/Personal-Projects/blob/master/Dataquest.ipynb\" target=\"_parent\"><img src=\"https://colab.research.google.com/assets/colab-badge.svg\" alt=\"Open In Colab\"/></a>"
      ]
    },
    {
      "cell_type": "markdown",
      "metadata": {
        "id": "-apfFrsoYJGf"
      },
      "source": [
        "#My First Data Science Project\n",
        "\n",
        "Steps taken to import .csv:\n",
        "- use **open()** to open **AppleStore.csv**\n",
        "- imported **reader()** from **csv**\n",
        "- used the **reader()** function and saved to variable **read_file**\n",
        "- converted the *read_file* to a list"
      ]
    },
    {
      "cell_type": "code",
      "metadata": {
        "id": "V3CxEppwWTpB"
      },
      "source": [
        "open_file = open('AppleStore.csv')\n",
        "from csv import reader\n",
        "read_file = reader(open_file)\n",
        "apps_data = list(read_file)\n"
      ],
      "execution_count": 2,
      "outputs": []
    },
    {
      "cell_type": "markdown",
      "metadata": {
        "id": "XKd_DJs0YqXS"
      },
      "source": [
        "##Mobile App Statistics (Apple iOS app store)\n",
        "\n",
        ">The ever-changing mobile landscape is a challenging space to navigate. . The percentage of mobile over desktop is only increasing. Android holds about 53.2% of the smartphone market, while iOS is 43%. To get more people to download your app, you need to make sure they can easily find your app. Mobile app analytics is a great way to understand the existing strategy to drive growth and retention of future user.\n",
        "\n",
        "\n",
        ">With million of apps around nowadays, the following data set has become very key to getting top trending apps in iOS app store. This data set contains more than 7000 Apple iOS mobile application details. The data was extracted from the iTunes Search API at the Apple Inc website. R and linux web scraping tools were used for this study.\n",
        "\n",
        "Data collection date (from API);\n",
        "July 2017\n",
        "\n",
        "Source: [Link](https://www.kaggle.com/ramamet4/app-store-apple-data-set-10k-apps)\n",
        "\n",
        "| Header     | Description |\n",
        "|------------|-------------|\n",
        "| id         |App ID|\n",
        "| track_name |App Name|\n",
        "| size_bytes |Size (in Bytes)|\n",
        "| currency |Currency Type|\n",
        "| price |Price Amount|\n",
        "| rating_count_ver |User Rating count (for all version)|\n",
        "| rating_count_tot |User Rating count (for current version)|\n",
        "| user_rating |Average User Rating Value (for all version)|\n",
        "| user_rating_ver |Average User Rating Value (for current version)|\n",
        "| ver |Latest version code|\n",
        "| cont_rating |Content Rating|\n",
        "| prim_genre |Primary Genre|\n",
        "| sup_device.num |Number of supporting devices|\n",
        "| ipad_Sc_urls.num |Number of screenshots showed for display|\n",
        "| lang.num |Number of supported languages|\n",
        "| vpp_lic |Vpp Device Based Licensing Enable|\n"
      ]
    }
  ]
}